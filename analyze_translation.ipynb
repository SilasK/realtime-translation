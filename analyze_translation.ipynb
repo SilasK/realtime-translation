{
 "cells": [
  {
   "cell_type": "code",
   "execution_count": 289,
   "metadata": {},
   "outputs": [],
   "source": [
    "import pandas as pd\n",
    "import numpy as np\n",
    "import matplotlib.pyplot as plt\n",
    "from datetime import datetime"
   ]
  },
  {
   "cell_type": "code",
   "execution_count": null,
   "metadata": {},
   "outputs": [],
   "source": [
    "df = pd.read_csv(\"logs/monitor_data.csv\")\n",
    "df.timestamp = pd.to_datetime(df.timestamp)\n",
    "\n",
    "\n",
    "# find line with start time, extract it and remove it from the dataframe\n",
    "\n",
    "start_time_index= df.number_name==\"start_time\"\n",
    "assert sum(start_time_index)==1\n",
    "\n",
    "#start_time = datetime.fromtimestamp(\n",
    "#    df.number[start_time_index].values[0])\n",
    "start_time = df.timestamp[start_time_index].values[0]\n",
    "\n",
    "df.drop(df.index[start_time_index], inplace=True)\n",
    "\n",
    "\n",
    "df.index= (df.timestamp-start_time).dt.total_seconds()\n",
    "\n",
    "df.head()"
   ]
  },
  {
   "cell_type": "code",
   "execution_count": null,
   "metadata": {},
   "outputs": [],
   "source": [
    "Number_categories = [\"delay\",\"translation time\"]\n",
    "\n",
    "f,axe = plt.subplots(2,1,sharex=True)\n",
    "assert len(axe)==len(Number_categories)\n",
    "\n",
    "Axes ={ k:axe[i] for i,k in enumerate(Number_categories)}\n",
    "\n",
    "\n",
    "\n",
    "for g,d in df.groupby([\"category\",\"subcategory\",\"number_name\"]):\n",
    "    c,sc,number_name = g\n",
    "    if number_name not in Number_categories:\n",
    "        continue\n",
    "    label = c\n",
    "    if sc:\n",
    "        label += \" \" + sc\n",
    "    print(c,sc,number_name)\n",
    "    d.number.plot(label=label ,ax=Axes[number_name],marker=\"o\",linestyle=\"-\")\n",
    "\n",
    "for k in Axes:\n",
    "    Axes[k].set_title(k)\n",
    "    Axes[k].set_ylabel(\"s\")\n",
    "    Axes[k].grid(True)\n",
    "    Axes[k].legend()\n",
    "\n",
    "\n",
    "#format x axis as min: sec\n",
    "axe[1].set_xlabel(\"Time (s)\")\n",
    "_ = axe[1].set_xticks(np.arange(0,df.index.max(),60))\n",
    "#axe[1].set_xticklabels([str(x).split(\" \")[-1] for x in axe[1].get_xticks()])"
   ]
  },
  {
   "cell_type": "markdown",
   "metadata": {},
   "source": [
    "# Sentences\n",
    "\n"
   ]
  },
  {
   "cell_type": "code",
   "execution_count": null,
   "metadata": {},
   "outputs": [],
   "source": [
    "S = pd.read_table(\"translations/sentence_transcript.tsv\",header=None)\n",
    "S.columns = [\"Timestamp\",\"Start\",\"End\",\"Sentence\"]\n",
    "S[\"Duration\"]= S.End-S.Start\n",
    "S[\"Timestamp\"] = pd.to_datetime(S.Timestamp)\n",
    "S[\"Pause_after\"] = S.Start.shift(-1) - S.End\n",
    "S[\"N_chars\"] = S.Sentence.str.len()\n",
    "S[\"N_words\"] = S.Sentence.str.split().str.len()\n",
    "S.head()"
   ]
  },
  {
   "cell_type": "code",
   "execution_count": 293,
   "metadata": {},
   "outputs": [],
   "source": [
    "#S.plot(y=\"Duration\",x=\"N_chars\",kind=\"scatter\")"
   ]
  },
  {
   "cell_type": "code",
   "execution_count": null,
   "metadata": {},
   "outputs": [],
   "source": [
    "S.Pause_after.plot(kind=\"hist\",bins=50)"
   ]
  },
  {
   "cell_type": "code",
   "execution_count": null,
   "metadata": {},
   "outputs": [],
   "source": [
    "for _,row in S.iterrows():\n",
    "    print(f\"{row.Sentence} {row.Pause_after:.2f}s\")\n",
    "    "
   ]
  },
  {
   "cell_type": "markdown",
   "metadata": {},
   "source": [
    "# Words "
   ]
  },
  {
   "cell_type": "code",
   "execution_count": null,
   "metadata": {},
   "outputs": [],
   "source": [
    "W= pd.read_csv(\"translations/transcribed_words.csv\",header=None)\n",
    "W.columns = [\"Timestamp\",\"Start\",\"End\",\"Word\"]\n",
    "W[\"Timestamp\"] = pd.to_datetime(W.Timestamp)\n",
    "W.index = W.Start-W.Start.iloc[0]\n",
    "W.index.name = \"Time\"\n",
    "W[\"Duration\"]= W.End-W.Start\n",
    "W[\"Pause_after\"] = W.Start.shift(-1) - W.End\n",
    "W[\"N_chars\"] = W.Word.str.len()\n",
    "W[\"N_vowels\"] = W.Word.str.count(\"[aeiouy]\")\n",
    "W[\"Frequency\"] = 60/(W.Duration+ W.Pause_after)\n"
   ]
  },
  {
   "cell_type": "code",
   "execution_count": null,
   "metadata": {},
   "outputs": [],
   "source": [
    "W.Frequency.rolling(10).mean().plot()\n"
   ]
  },
  {
   "cell_type": "code",
   "execution_count": null,
   "metadata": {},
   "outputs": [],
   "source": []
  }
 ],
 "metadata": {
  "kernelspec": {
   "display_name": "default",
   "language": "python",
   "name": "python3"
  },
  "language_info": {
   "codemirror_mode": {
    "name": "ipython",
    "version": 3
   },
   "file_extension": ".py",
   "mimetype": "text/x-python",
   "name": "python",
   "nbconvert_exporter": "python",
   "pygments_lexer": "ipython3",
   "version": "3.11.11"
  }
 },
 "nbformat": 4,
 "nbformat_minor": 2
}
