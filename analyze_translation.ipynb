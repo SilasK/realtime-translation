{
 "cells": [
  {
   "cell_type": "code",
   "execution_count": 48,
   "metadata": {},
   "outputs": [],
   "source": [
    "import pandas as pd\n",
    "import numpy as np\n",
    "import matplotlib.pyplot as plt\n",
    "from datetime import datetime"
   ]
  },
  {
   "cell_type": "code",
   "execution_count": null,
   "metadata": {},
   "outputs": [],
   "source": [
    "df = pd.read_csv(\"logs/monitor_data.csv\")\n",
    "df.timestamp = pd.to_datetime(df.timestamp)\n",
    "\n",
    "\n",
    "# find line with start time, extract it and remove it from the dataframe\n",
    "\n",
    "start_time_index= df.number_name==\"start_time\"\n",
    "assert sum(start_time_index)==1\n",
    "\n",
    "#start_time = datetime.fromtimestamp(\n",
    "#    df.number[start_time_index].values[0])\n",
    "start_time = df.timestamp[start_time_index].values[0]\n",
    "\n",
    "df.drop(df.index[start_time_index], inplace=True)\n",
    "\n",
    "\n",
    "\n",
    "df.index= (df.timestamp-start_time).dt.total_seconds()\n",
    "df.drop(\"timestamp\", axis=1, inplace=True)\n",
    "df.head()"
   ]
  },
  {
   "cell_type": "code",
   "execution_count": null,
   "metadata": {},
   "outputs": [],
   "source": [
    "df.query('number_name==\"Processing_time\" & category==\"Transcription\"')[[\"number\",\"message\"]]"
   ]
  },
  {
   "cell_type": "raw",
   "metadata": {
    "vscode": {
     "languageId": "raw"
    }
   },
   "source": [
    "df.query(\"subcategory=='Audio_queue'\").plot(y=\"number\", style=\".-\")"
   ]
  },
  {
   "cell_type": "raw",
   "metadata": {
    "vscode": {
     "languageId": "raw"
    }
   },
   "source": [
    "dd= df.query(\"category=='Debug'\")\n",
    "(dd.index/dd.number).plot(y=\"number\", x=\"timestamp\",style=\"o-\")\n",
    "\n",
    "#dd.number.plot(y=\"number\", x=\"timestamp\",style=\"o-\")\n",
    "\n",
    "\n",
    "dd.tail()"
   ]
  },
  {
   "cell_type": "code",
   "execution_count": null,
   "metadata": {},
   "outputs": [],
   "source": []
  },
  {
   "cell_type": "markdown",
   "metadata": {},
   "source": []
  },
  {
   "cell_type": "code",
   "execution_count": null,
   "metadata": {},
   "outputs": [],
   "source": [
    "Number_categories = [\"delay\",\"Processing_time\",'Buffer_size']\n",
    "\n",
    "f,axe = plt.subplots(len(Number_categories),1,sharex=True,figsize=(1+3*len(Number_categories),5))\n",
    "assert len(axe)==len(Number_categories)\n",
    "\n",
    "Axes ={ k:axe[i] for i,k in enumerate(Number_categories)}\n",
    "\n",
    "\n",
    "\n",
    "for g,d in df.groupby([\"category\",\"subcategory\",\"number_name\"],dropna=False):\n",
    "    c,sc,number_name = g\n",
    "    if number_name not in Number_categories:\n",
    "        continue\n",
    "    label = c\n",
    "    if type(sc)==str:\n",
    "        label += \" \" + sc\n",
    "    print(c,sc,number_name)\n",
    "    d.number.plot(label=label ,ax=Axes[number_name],marker=\"o\",linestyle=\"-\")\n",
    "\n",
    "for k in Axes:\n",
    "    Axes[k].set_title(k)\n",
    "    Axes[k].set_ylabel(\"s\")\n",
    "    Axes[k].grid(True)\n",
    "    Axes[k].legend()\n",
    "\n",
    "\n",
    "#format x axis as min: sec\n",
    "axe[1].set_xlabel(\"Time (s)\")\n",
    "_ = axe[1].set_xticks(np.arange(0,df.index.max(),60))\n",
    "#axe[1].set_xticklabels([str(x).split(\" \")[-1] for x in axe[1].get_xticks()])"
   ]
  },
  {
   "cell_type": "code",
   "execution_count": null,
   "metadata": {},
   "outputs": [],
   "source": [
    "if not df.query('number_name==\"Processing_time\" and subcategory==\"VAC\"').number.describe().loc[\"75%\"]< 0.04:\n",
    "\n",
    "    print(\"Warning: Processing time is too high\")\n",
    "    print(df.query('number_name==\"Processing_time\" and subcategory==\"VAC\"').number.describe())"
   ]
  },
  {
   "cell_type": "markdown",
   "metadata": {},
   "source": []
  },
  {
   "cell_type": "code",
   "execution_count": null,
   "metadata": {},
   "outputs": [],
   "source": [
    "df.query(\"category=='Transcription'\")"
   ]
  },
  {
   "cell_type": "code",
   "execution_count": null,
   "metadata": {},
   "outputs": [],
   "source": [
    "d= df.query(\"category=='Transcription'\")\n",
    "\n",
    "d.index= d.index.round(2)\n",
    "d.drop(columns=[\"timestamp\",\"subcategory\"],inplace=True)\n",
    "\n",
    "d=d.pivot_table(values=\"number\",columns=[\"number_name\"],index=\"timestamp\")"
   ]
  },
  {
   "cell_type": "raw",
   "metadata": {
    "vscode": {
     "languageId": "raw"
    }
   },
   "source": [
    "\n",
    "\n",
    "df.loc[df.number_name.str.contains(\"offset\"),\"number\"] = df.loc[df.number_name.str.contains(\"offset\")].index - df.loc[df.number_name.str.contains(\"offset\"),\"number\"]"
   ]
  },
  {
   "cell_type": "code",
   "execution_count": null,
   "metadata": {},
   "outputs": [],
   "source": [
    "d=df.query(\"number_name=='Time'\")\n",
    "\n",
    "\n",
    "((d.index-d.number)).plot()"
   ]
  },
  {
   "cell_type": "code",
   "execution_count": null,
   "metadata": {},
   "outputs": [],
   "source": [
    "Number_categories = df.number_name.unique()\n",
    "N=len(Number_categories)\n",
    "\n",
    "f,axe = plt.subplots(N,1,sharex=True,figsize=(9,1+3*N))\n",
    "\n",
    "\n",
    "Axes ={ k:axe[i] for i,k in enumerate(Number_categories)}\n",
    "\n",
    "\n",
    "\n",
    "\n",
    "\n",
    "\n",
    "\n",
    "for g,d in df.groupby([\"category\",\"subcategory\",\"number_name\"],dropna=False):\n",
    "    c,sc,number_name = g\n",
    "    if number_name not in Number_categories:\n",
    "        continue\n",
    "    label = c\n",
    "    if type(sc)==str:\n",
    "        label += \" \" + sc\n",
    "    # print(c,sc,number_name)\n",
    "    d.number.plot(label=label ,ax=Axes[number_name],marker=\"o\",linestyle=\"-\")\n",
    "\n",
    "for k in Axes:\n",
    "    Axes[k].set_title(k)\n",
    "    Axes[k].grid(True)\n",
    "    Axes[k].legend()\n",
    "\n",
    "\n",
    "#format x axis as min: sec\n",
    "axe[1].set_xlabel(\"Time (s)\")\n",
    "_ = axe[1].set_xticks(np.arange(0,df.index.max(),60))\n",
    "#axe[1].set_xticklabels([str(x).split(\" \")[-1] for x in axe[1].get_xticks()])"
   ]
  },
  {
   "cell_type": "raw",
   "metadata": {
    "vscode": {
     "languageId": "raw"
    }
   },
   "source": [
    "# Extract delay values for Transcription category\n",
    "values = df.query(\"number_name=='delay' and category=='Transcription'\").number\n",
    "\n",
    "# Create arrays for the x and y values\n",
    "x = np.arange(len(values))\n",
    "# x = values.index\n",
    "y = values.values\n",
    "\n",
    "# Calculate linear regression using numpy\n",
    "A = np.vstack([x, np.ones(len(x))]).T\n",
    "m, c = np.linalg.lstsq(A, y, rcond=None)[0]\n",
    "\n",
    "# Calculate R-squared\n",
    "y_pred = m * x + c\n",
    "ss_tot = np.sum((y - np.mean(y))**2)\n",
    "ss_res = np.sum((y - y_pred)**2)\n",
    "r_squared = 1 - (ss_res / ss_tot)\n",
    "\n",
    "# Plot the data and the regression line\n",
    "plt.figure(figsize=(10, 6))\n",
    "plt.scatter(x, y, alpha=0.7)\n",
    "plt.plot(x, m*x + c, 'r', label=f'y = {m:.4f}x + {c:.4f}')\n",
    "plt.title('Linear Regression of Transcription Delays')\n",
    "plt.xlabel('Index')\n",
    "plt.ylabel('Delay (s)')\n",
    "plt.grid(True, alpha=0.3)\n",
    "plt.legend()\n",
    "\n",
    "# Display regression statistics\n",
    "print(f\"Slope (m): {m:.6f}\")\n",
    "print(f\"Intercept (c): {c:.6f}\")\n",
    "print(f\"R-squared: {r_squared:.6f}\")"
   ]
  },
  {
   "cell_type": "raw",
   "metadata": {},
   "source": [
    "\n",
    "\n",
    "0.04    0.1\n",
    "0.077   0.038\n",
    "0.38    0.21"
   ]
  },
  {
   "cell_type": "markdown",
   "metadata": {},
   "source": [
    "# Sentences\n",
    "\n"
   ]
  },
  {
   "cell_type": "code",
   "execution_count": null,
   "metadata": {},
   "outputs": [],
   "source": [
    "S = pd.read_table(\"translations/sentence_transcript.tsv\",header=None)\n",
    "S.columns = [\"Timestamp\",\"Start\",\"End\",\"Sentence\"]\n",
    "S[\"Duration\"]= S.End-S.Start\n",
    "S[\"Timestamp\"] = pd.to_datetime(S.Timestamp)\n",
    "S[\"Pause_after\"] = S.Start.shift(-1) - S.End\n",
    "S[\"N_chars\"] = S.Sentence.str.len()\n",
    "S[\"N_words\"] = S.Sentence.str.split().str.len()\n",
    "S.head()"
   ]
  },
  {
   "cell_type": "code",
   "execution_count": null,
   "metadata": {},
   "outputs": [],
   "source": [
    "#S.plot(y=\"Duration\",x=\"N_chars\",kind=\"scatter\")"
   ]
  },
  {
   "cell_type": "code",
   "execution_count": null,
   "metadata": {},
   "outputs": [],
   "source": [
    "S.Pause_after.plot(kind=\"hist\",bins=50)"
   ]
  },
  {
   "cell_type": "code",
   "execution_count": null,
   "metadata": {},
   "outputs": [],
   "source": [
    "for _,row in S.iterrows():\n",
    "    print(f\"{row.Sentence} {row.Pause_after:.2f}s\")\n",
    "    "
   ]
  },
  {
   "cell_type": "markdown",
   "metadata": {},
   "source": [
    "# Words "
   ]
  },
  {
   "cell_type": "code",
   "execution_count": null,
   "metadata": {},
   "outputs": [],
   "source": [
    "W= pd.read_csv(\"translations/transcribed_words.csv\",header=None)\n",
    "W.columns = [\"Timestamp\",\"Start\",\"End\",\"Word\"]\n",
    "W[\"Timestamp\"] = pd.to_datetime(W.Timestamp)\n",
    "W.index = W.Start-W.Start.iloc[0]\n",
    "W.index.name = \"Time\"\n",
    "W[\"Duration\"]= W.End-W.Start\n",
    "W[\"Pause_after\"] = W.Start.shift(-1) - W.End\n",
    "W[\"N_chars\"] = W.Word.str.len()\n",
    "W[\"N_vowels\"] = W.Word.str.count(\"[aeiouy]\")\n",
    "W[\"Frequency\"] = 60/(W.Duration+ W.Pause_after)\n"
   ]
  },
  {
   "cell_type": "code",
   "execution_count": null,
   "metadata": {},
   "outputs": [],
   "source": [
    "W.Frequency.rolling(10).mean().plot()\n"
   ]
  },
  {
   "cell_type": "code",
   "execution_count": null,
   "metadata": {},
   "outputs": [],
   "source": []
  }
 ],
 "metadata": {
  "kernelspec": {
   "display_name": "default",
   "language": "python",
   "name": "python3"
  },
  "language_info": {
   "codemirror_mode": {
    "name": "ipython",
    "version": 3
   },
   "file_extension": ".py",
   "mimetype": "text/x-python",
   "name": "python",
   "nbconvert_exporter": "python",
   "pygments_lexer": "ipython3",
   "version": "3.11.11"
  }
 },
 "nbformat": 4,
 "nbformat_minor": 2
}
